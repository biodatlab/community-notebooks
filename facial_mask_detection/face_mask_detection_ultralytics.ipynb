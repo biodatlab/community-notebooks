{
  "cells": [
    {
      "cell_type": "markdown",
      "metadata": {
        "id": "l059tulEwVl1"
      },
      "source": [
        "## Mask wearing prediction\n",
        "\n",
        "- In this tutorial, we will download the dataset of people wearing mask from Roboflow (see [mask wearing](https://universe.roboflow.com/roboflow-100/mask-wearing-608pr) dataset) for training the object detection model using YOLO format dataset.\n",
        "- In addition, we will download an additional [mask wearing dataset from Kaggle](https://www.kaggle.com/datasets/andrewmvd/face-mask-detection) in PASCAL format. We will convert the dataset to YOLOv8 format and then train the model together."
      ]
    },
    {
      "cell_type": "code",
      "execution_count": null,
      "metadata": {
        "id": "ilYfyr8f-OXE"
      },
      "outputs": [],
      "source": [
        "# First, goes to the dataset website at https://universe.roboflow.com/roboflow-100/mask-wearing-608pr\n",
        "# Click \"Download Dataset\" then select YOLOv8 format and show download code, then continue\n",
        "# Click Terminal tab and copy the code below. The code should look something similar to the one below\n",
        "%%capture\n",
        "!curl -L \"https://universe.roboflow.com/ds/___?key=____\" > roboflow.zip; unzip roboflow.zip; rm roboflow.zip"
      ]
    },
    {
      "cell_type": "code",
      "execution_count": null,
      "metadata": {
        "id": "wwCGo0JF_tuu"
      },
      "outputs": [],
      "source": [
        "%%capture\n",
        "!pip install ultralytics\n",
        "!pip install gradio==3.35.0\n",
        "!pip install fastapi==0.103.2\n",
        "!pip install -q kaggle"
      ]
    },
    {
      "cell_type": "markdown",
      "metadata": {
        "id": "Y0nU0g5IyHHb"
      },
      "source": [
        "Edit path `data.yaml` to something as follows:\n",
        "\n",
        "```\n",
        "train: /content/train/images\n",
        "val: /content/train/images\n",
        "test: /content/test/images\n",
        "```\n",
        "\n",
        "Then you can download the model and train"
      ]
    },
    {
      "cell_type": "code",
      "execution_count": null,
      "metadata": {
        "id": "BGLRBP3E-17L"
      },
      "outputs": [],
      "source": [
        "from ultralytics import YOLO\n",
        "\n",
        "# Load a model\n",
        "model = YOLO('yolov8n.yaml').load('yolov8n.pt')  # build from YAML and transfer weights\n",
        "\n",
        "# Train the YOLO model for 30 epochs\n",
        "results = model.train(\n",
        "    data=\"./data.yaml\", epochs=30, imgsz=640)"
      ]
    },
    {
      "cell_type": "code",
      "source": [
        "from PIL import Image\n",
        "\n",
        "img = Image.open(\"/content/test/images/0_Concern-In-China-As-Mystery-Virus-Spreads_jpg.rf.d72d62bb4088957c50f0c9698706728e.jpg\")\n",
        "pred = model(img)"
      ],
      "metadata": {
        "id": "kYyHNLL8QKAL"
      },
      "execution_count": null,
      "outputs": []
    },
    {
      "cell_type": "code",
      "source": [
        "boxes_predict = pred[0].boxes\n",
        "[int(i) for i in boxes_predict.cls.tolist()]"
      ],
      "metadata": {
        "id": "L1KIfC0_QVR3"
      },
      "execution_count": null,
      "outputs": []
    },
    {
      "cell_type": "code",
      "execution_count": null,
      "metadata": {
        "id": "xUUE9ieHBEdJ"
      },
      "outputs": [],
      "source": [
        "import gradio as gr\n",
        "from PIL import Image, ImageDraw, ImageFont\n",
        "\n",
        "color_map = {0: \"green\", 1: \"red\"}\n",
        "\n",
        "def inference(img):\n",
        "    \"\"\"\n",
        "    Inference on a given image and draw prediction boxes to images\n",
        "    \"\"\"\n",
        "    pred = model(img)\n",
        "    draw_prediction = ImageDraw.Draw(img)\n",
        "    boxes_predict = pred[0].boxes\n",
        "    boxes = boxes_predict.xyxy.tolist()\n",
        "    scores = boxes_predict.conf.tolist()\n",
        "    classes = [int(i) for i in boxes_predict.cls.tolist()]\n",
        "    for score, box, cls in zip(scores, boxes, classes):\n",
        "        x, y, x2, y2 = tuple(box)\n",
        "        draw_prediction.rectangle((x, y, x2, y2), outline=color_map[cls], width=2)\n",
        "    return img\n",
        "\n",
        "interface = gr.Interface(\n",
        "    fn=inference,\n",
        "    inputs=gr.inputs.Image(label=\"Input Image\", type=\"pil\"),\n",
        "    outputs=gr.outputs.Image(label=\"Predicted Image\", type=\"pil\"),\n",
        "    title=\"Mask and non-mask detection\",\n",
        ")\n",
        "\n",
        "# launch demo\n",
        "interface.launch(debug=True)"
      ]
    },
    {
      "cell_type": "markdown",
      "metadata": {
        "id": "Kwy3jOscHz8M"
      },
      "source": [
        "# Download additional data from Kaggle\n",
        "\n",
        "- To download the [mask wearing data](https://www.kaggle.com/datasets/andrewmvd/face-mask-detection) from Kaggle, you can register for Kaggle. Then goes to `Settings` and download JSON token by clicking `Create New Token`\n",
        "- Upload `kaggle.json` in the directory\n",
        "- Run the code below to download the dataset, copy images to `train/` folder"
      ]
    },
    {
      "cell_type": "code",
      "execution_count": null,
      "metadata": {
        "id": "hTTsDkubzJcg"
      },
      "outputs": [],
      "source": [
        "import shutil\n",
        "import os\n",
        "import os.path as op\n",
        "from pathlib import Path\n",
        "from glob import glob"
      ]
    },
    {
      "cell_type": "code",
      "execution_count": null,
      "metadata": {
        "id": "ATKXDUFdEPyT"
      },
      "outputs": [],
      "source": [
        "# Download Kaggle library: !pip install -q kaggle\n",
        "!mkdir ~/.kaggle/\n",
        "!cp kaggle.json ~/.kaggle/\n",
        "!chmod 600 ~/.kaggle/kaggle.json"
      ]
    },
    {
      "cell_type": "code",
      "execution_count": null,
      "metadata": {
        "id": "8UHWsy9cHWXD"
      },
      "outputs": [],
      "source": [
        "# download data from Kaggle\n",
        "%%capture\n",
        "!kaggle datasets download -d andrewmvd/face-mask-detection\n",
        "!unzip face-mask-detection.zip -d face-mask-kaggle/"
      ]
    },
    {
      "cell_type": "code",
      "execution_count": null,
      "metadata": {
        "id": "cW7NSt54IRMO"
      },
      "outputs": [],
      "source": [
        "xml_paths = glob(\"face-mask-kaggle/annotations/*.xml\")\n",
        "print(len(xml_paths))"
      ]
    },
    {
      "cell_type": "markdown",
      "source": [
        "## An example of XML file\n",
        "\n",
        "```\n",
        "\n",
        "<annotation>\n",
        "    <folder>images</folder>\n",
        "    <filename>maksssksksss0.png</filename>\n",
        "    <size>\n",
        "        <width>512</width>\n",
        "        <height>366</height>\n",
        "        <depth>3</depth>\n",
        "    </size>\n",
        "    <segmented>0</segmented>\n",
        "    <object>\n",
        "        <name>without_mask</name>\n",
        "        <pose>Unspecified</pose>\n",
        "        <truncated>0</truncated>\n",
        "        <occluded>0</occluded>\n",
        "        <difficult>0</difficult>\n",
        "        <bndbox>\n",
        "            <xmin>79</xmin>\n",
        "            <ymin>105</ymin>\n",
        "            <xmax>109</xmax>\n",
        "            <ymax>142</ymax>\n",
        "        </bndbox>\n",
        "    </object>\n",
        "    <object>\n",
        "        <name>with_mask</name>\n",
        "        <pose>Unspecified</pose>\n",
        "        <truncated>0</truncated>\n",
        "        <occluded>0</occluded>\n",
        "        <difficult>0</difficult>\n",
        "        <bndbox>\n",
        "            <xmin>185</xmin>\n",
        "            <ymin>100</ymin>\n",
        "            <xmax>226</xmax>\n",
        "            <ymax>144</ymax>\n",
        "        </bndbox>\n",
        "    </object>\n",
        "    <object>\n",
        "        <name>without_mask</name>\n",
        "        <pose>Unspecified</pose>\n",
        "        <truncated>0</truncated>\n",
        "        <occluded>0</occluded>\n",
        "        <difficult>0</difficult>\n",
        "        <bndbox>\n",
        "            <xmin>325</xmin>\n",
        "            <ymin>90</ymin>\n",
        "            <xmax>360</xmax>\n",
        "            <ymax>141</ymax>\n",
        "        </bndbox>\n",
        "    </object>\n",
        "</annotation>\n",
        "```"
      ],
      "metadata": {
        "id": "hjgLvBxiSLzD"
      }
    },
    {
      "cell_type": "code",
      "execution_count": null,
      "metadata": {
        "id": "ehVymkWvRBQ5"
      },
      "outputs": [],
      "source": [
        "import xml.etree.ElementTree as ET\n",
        "\n",
        "class_mapping = {\n",
        "  \"with_mask\": 0,\n",
        "  \"without_mask\": 1,\n",
        "  \"mask_weared_incorrect\": 2\n",
        "}\n",
        "\n",
        "def pascal_xml_to_yolov8(xml_file, class_mapping):\n",
        "    tree = ET.parse(xml_file)\n",
        "    root = tree.getroot()\n",
        "    yolo_labels = []  # To store YOLOv8 formatted labels\n",
        "\n",
        "    # use width and height from XML file\n",
        "    img_width = int(root.find(\"size\").find(\"width\").text)\n",
        "    img_height = int(root.find(\"size\").find(\"height\").text)\n",
        "\n",
        "    for obj in root.findall(\"object\"):\n",
        "        class_name = obj.find(\"name\").text\n",
        "        if class_name in class_mapping:\n",
        "            class_id = class_mapping[class_name]\n",
        "            bbox = obj.find(\"bndbox\")\n",
        "            xmin = float(bbox.find(\"xmin\").text)\n",
        "            ymin = float(bbox.find(\"ymin\").text)\n",
        "            xmax = float(bbox.find(\"xmax\").text)\n",
        "            ymax = float(bbox.find(\"ymax\").text)\n",
        "\n",
        "            x_center = (xmin + xmax) / (2.0 * img_width)\n",
        "            y_center = (ymin + ymax) / (2.0 * img_height)\n",
        "            width = (xmax - xmin) / img_width\n",
        "            height = (ymax - ymin) / img_height\n",
        "            yolo_labels.append(f\"{class_id} {x_center} {y_center} {width} {height}\")\n",
        "\n",
        "    return yolo_labels"
      ]
    },
    {
      "cell_type": "code",
      "execution_count": null,
      "metadata": {
        "id": "Wpeit687TZJ4"
      },
      "outputs": [],
      "source": [
        "# read and convert XML file to YOLO format\n",
        "yolo_path = \"/content/face-mask-kaggle/annotations_yolo\"\n",
        "os.makedirs(yolo_path, exist_ok=True)\n",
        "\n",
        "for xml_path in xml_paths:\n",
        "  yolo_labels = pascal_xml_to_yolov8(xml_path, class_mapping)\n",
        "  file_path = op.join(yolo_path, Path(xml_path).stem + \".txt\")\n",
        "  with open(file_path, \"w\") as f:\n",
        "    for line in yolo_labels:\n",
        "      f.write(line + \"\\n\")"
      ]
    },
    {
      "cell_type": "code",
      "execution_count": null,
      "metadata": {
        "id": "-wXhmmudZuX-"
      },
      "outputs": [],
      "source": [
        "image_paths = glob(\"face-mask-kaggle/images/*\")\n",
        "for img_path in image_paths:\n",
        "  shutil.copy(img_path, \"train/images/\")"
      ]
    },
    {
      "cell_type": "code",
      "execution_count": null,
      "metadata": {
        "id": "tc2ushnbZ7PX"
      },
      "outputs": [],
      "source": [
        "label_paths = glob(\"face-mask-kaggle/annotations_yolo/*\")\n",
        "for label_path in label_paths:\n",
        "  shutil.copy(label_path, \"train/labels/\")"
      ]
    },
    {
      "cell_type": "code",
      "execution_count": null,
      "metadata": {
        "id": "UmkDNSDfb_Ax"
      },
      "outputs": [],
      "source": [
        "len(glob(\"train/images/*\")), len(glob(\"train/labels/*\"))"
      ]
    },
    {
      "cell_type": "code",
      "source": [
        "# check which files contain \"mask_weared_incorrrect\" class\n",
        "from glob import glob\n",
        "import xml.etree.ElementTree as ET\n",
        "\n",
        "def is_mask_incorrect(xml_file):\n",
        "    tree = ET.parse(xml_file)\n",
        "    root = tree.getroot()\n",
        "    incorrect_mask = False\n",
        "    for obj in root.findall(\"object\"):\n",
        "        class_name = obj.find(\"name\").text\n",
        "        if \"mask_weared_incorrect\" in class_name:\n",
        "            incorrect_mask = True\n",
        "    return incorrect_mask\n",
        "\n",
        "[p for p in glob(\"face-mask-kaggle/annotations/*\") if is_mask_incorrect(p)][0:10]"
      ],
      "metadata": {
        "id": "KJalAgcgT6KB"
      },
      "execution_count": null,
      "outputs": []
    },
    {
      "cell_type": "code",
      "execution_count": null,
      "metadata": {
        "id": "QTCEyL8WaEgQ"
      },
      "outputs": [],
      "source": [
        "from ultralytics import YOLO\n",
        "\n",
        "# Load a model\n",
        "model = YOLO('yolov8n.yaml').load('yolov8n.pt')  # build from YAML and transfer weights\n",
        "\n",
        "# Train the YOLO model for 50 epochs\n",
        "results = model.train(\n",
        "    data=\"./data.yaml\", epochs=30, imgsz=640)"
      ]
    },
    {
      "cell_type": "markdown",
      "metadata": {
        "id": "Q6iCmrnQ3O9L"
      },
      "source": [
        "# Inference using the trained model"
      ]
    },
    {
      "cell_type": "code",
      "execution_count": null,
      "metadata": {
        "id": "JNr5eNWojEFZ"
      },
      "outputs": [],
      "source": [
        "import gradio as gr\n",
        "from PIL import Image, ImageDraw, ImageFont\n",
        "\n",
        "# 0 = mask, 1 = no mask, 2 = mask wear incorrectly\n",
        "color_map = {0: \"green\", 1: \"red\", 2: \"orange\"}\n",
        "\n",
        "def inference(img):\n",
        "    \"\"\"\n",
        "    Inference on a given image and draw prediction boxes to images\n",
        "    \"\"\"\n",
        "    pred = model(img)\n",
        "    draw_prediction = ImageDraw.Draw(img)\n",
        "    boxes_predict = pred[0].boxes\n",
        "    boxes = boxes_predict.xyxy.tolist()\n",
        "    scores = boxes_predict.conf.tolist()\n",
        "    classes = [int(i) for i in boxes_predict.cls.tolist()]\n",
        "    for score, box, cls in zip(scores, boxes, classes):\n",
        "        x, y, x2, y2 = tuple(box)\n",
        "        draw_prediction.rectangle((x, y, x2, y2), outline=color_map[cls], width=2)\n",
        "    return img\n",
        "\n",
        "interface = gr.Interface(\n",
        "    fn=inference,\n",
        "    inputs=gr.inputs.Image(label=\"Input Image\", type=\"pil\"),\n",
        "    outputs=gr.outputs.Image(label=\"Predicted Image\", type=\"pil\"),\n",
        "    title=\"Mask and non-mask detection\",\n",
        ")\n",
        "\n",
        "# launch demo\n",
        "interface.launch(debug=True)"
      ]
    }
  ],
  "metadata": {
    "accelerator": "GPU",
    "colab": {
      "provenance": [],
      "gpuType": "T4"
    },
    "kernelspec": {
      "display_name": "Python 3",
      "name": "python3"
    },
    "language_info": {
      "name": "python"
    }
  },
  "nbformat": 4,
  "nbformat_minor": 0
}