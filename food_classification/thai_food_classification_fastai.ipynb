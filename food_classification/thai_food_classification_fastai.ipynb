{
  "nbformat": 4,
  "nbformat_minor": 0,
  "metadata": {
    "colab": {
      "provenance": [],
      "gpuType": "T4"
    },
    "kernelspec": {
      "name": "python3",
      "display_name": "Python 3"
    },
    "language_info": {
      "name": "python"
    },
    "accelerator": "GPU"
  },
  "cells": [
    {
      "cell_type": "markdown",
      "source": [
        "## Thai Food Classification using FastAI\n",
        "\n",
        "- Reference: https://github.com/ai-builders/curriculum/blob/main/notebooks/01_ml_what.ipynb by Charin\n",
        "- Using FastAI to fine-tune CNN model for Thai food classification"
      ],
      "metadata": {
        "id": "KQuUineWd6BK"
      }
    },
    {
      "cell_type": "code",
      "execution_count": null,
      "metadata": {
        "id": "JWrixCxscV7T"
      },
      "outputs": [],
      "source": [
        "# install fastbook\n",
        "!pip install -q fastbook==0.0.29"
      ]
    },
    {
      "cell_type": "code",
      "source": [
        "%%capture\n",
        "!git clone https://github.com/GemmyTheGeek/FoodyDudy.git"
      ],
      "metadata": {
        "id": "T3VlJBj8ceFo"
      },
      "execution_count": null,
      "outputs": []
    },
    {
      "cell_type": "code",
      "source": [
        "from fastbook import *"
      ],
      "metadata": {
        "id": "GZKcpUlgcsQg"
      },
      "execution_count": null,
      "outputs": []
    },
    {
      "cell_type": "code",
      "source": [
        "food_list = [\n",
        "    'green_curry', 'tepo_curry', 'liang_curry', 'taohoo_moosup', 'mara_yadsai',\n",
        "    'masaman', 'orange_curry', 'cashew_chicken', 'omelette', 'sunny_side_up',\n",
        "    'palo_egg', 'sil_egg', 'nun_banana', 'kua_gai', 'cabbage_fish_sauce',\n",
        "    'river_prawn', 'shrimp_ob_woonsen', 'kanom_krok', 'mango_sticky_rice', 'kao_kamoo',\n",
        "    'kao_klook_kapi', 'kaosoi', 'kao_pad', 'kao_pad_shrimp', 'chicken_rice',\n",
        "    'kao_mok_gai', 'tom_ka_gai', 'tom_yum_kung', 'tod_mun', 'poh_pia',\n",
        "    'pak_boong_fai_daeng', 'padthai', 'pad_krapao', 'pad_si_ew', 'pad_fakthong',\n",
        "    'eggplant_stirfry', 'pad_hoi_lai', 'foithong', 'panaeng', 'yum_tua_ploo',\n",
        "    'yum_woonsen', 'larb_moo', 'pumpkin_custard', 'sakoo_sai_moo', 'somtam',\n",
        "    'moopoing','satay', 'hor_mok'\n",
        "]\n",
        "id2food = {i: f for i, f in enumerate(food_list)}"
      ],
      "metadata": {
        "id": "1Jx9DzJAclrO"
      },
      "execution_count": null,
      "outputs": []
    },
    {
      "cell_type": "code",
      "source": [
        "dblock = DataBlock(\n",
        "    blocks=(ImageBlock, CategoryBlock), #x - image; y - single class\n",
        "    get_items=get_image_files, # get all image from folders\n",
        "    splitter=GrandparentSplitter(valid_name=\"valid\"), # use parent folder as train-valid split\n",
        "    get_y=parent_label, # use parent folder as label\n",
        "    batch_tfms=aug_transforms(size=224)\n",
        ")\n",
        "data_loaders = dblock.dataloaders(\"FoodyDudy/images/\", bs=64)"
      ],
      "metadata": {
        "id": "buBETZIMcnX5"
      },
      "execution_count": null,
      "outputs": []
    },
    {
      "cell_type": "code",
      "source": [
        "# get all images\n",
        "get_image_files(\"FoodyDudy/images/\")"
      ],
      "metadata": {
        "id": "_thmh8mmczZL"
      },
      "execution_count": null,
      "outputs": []
    },
    {
      "cell_type": "code",
      "source": [
        "# get y from parent label\n",
        "path = get_image_files(\"FoodyDudy/images/\")[0]\n",
        "path, parent_label(path)"
      ],
      "metadata": {
        "id": "AMmmdqUWdRgQ"
      },
      "execution_count": null,
      "outputs": []
    },
    {
      "cell_type": "code",
      "source": [
        "data_loaders.train.show_batch(max_n=9,nrows=3)"
      ],
      "metadata": {
        "id": "O2cbfQRxdWBt"
      },
      "execution_count": null,
      "outputs": []
    },
    {
      "cell_type": "code",
      "source": [
        "# data loaders, backbone: ResNet34, metric: accuracy\n",
        "learn = cnn_learner(data_loaders, resnet34, metrics=accuracy)\n",
        "learn.fine_tune(epochs=5, freeze_epochs=1, base_lr=2e-3)"
      ],
      "metadata": {
        "id": "0AVypZ6edjrK"
      },
      "execution_count": null,
      "outputs": []
    },
    {
      "cell_type": "code",
      "source": [
        "learn.show_results()"
      ],
      "metadata": {
        "id": "bGrnoPyWdrQ5"
      },
      "execution_count": null,
      "outputs": []
    },
    {
      "cell_type": "code",
      "source": [
        "interp = ClassificationInterpretation.from_learner(learn)\n",
        "interp.plot_confusion_matrix(figsize=(10,10))"
      ],
      "metadata": {
        "id": "7B4XED5XduZ6"
      },
      "execution_count": null,
      "outputs": []
    },
    {
      "cell_type": "code",
      "source": [
        "from glob import glob\n",
        "\n",
        "test_paths = glob(\"FoodyDudy/images/test/15/*\")"
      ],
      "metadata": {
        "id": "T18rgeE3fi5Q"
      },
      "execution_count": null,
      "outputs": []
    },
    {
      "cell_type": "code",
      "source": [
        "pred, pred_idx, probs = learn.predict(test_paths[0])\n",
        "print(pred_idx, id2food[int(pred_idx)])"
      ],
      "metadata": {
        "id": "E0COhcIpf5Q_"
      },
      "execution_count": null,
      "outputs": []
    },
    {
      "cell_type": "markdown",
      "source": [
        "## Create Gradio Application\n",
        "\n",
        "Create Gradio Application for prediction."
      ],
      "metadata": {
        "id": "k-ArjvLueyjW"
      }
    },
    {
      "cell_type": "code",
      "source": [
        "%%capture\n",
        "!pip install gradio==3.35.0\n",
        "!pip install fastapi==0.103.2"
      ],
      "metadata": {
        "id": "Bq_-e8rBex6t"
      },
      "execution_count": null,
      "outputs": []
    },
    {
      "cell_type": "code",
      "source": [
        "import gradio as gr\n",
        "\n",
        "def inference(img):\n",
        "    \"\"\"Inference function from gradio input.\"\"\"\n",
        "    img = PILImage.create(img)\n",
        "    pred, pred_idx, probs = learn.predict(img)\n",
        "    pred_sort = probs.sort(descending=True)\n",
        "    predictions = {\n",
        "        id2food[int(v)]: float(k)\n",
        "        for k, v in zip(pred_sort.values[0:5], pred_sort.indices[0:5])\n",
        "    }\n",
        "    return predictions"
      ],
      "metadata": {
        "id": "4Q6PBkDFfXGr"
      },
      "execution_count": null,
      "outputs": []
    },
    {
      "cell_type": "code",
      "source": [
        "inputs = gr.inputs.Image()\n",
        "outputs = gr.outputs.Label(num_top_classes=5)\n",
        "\n",
        "interface = gr.Interface(\n",
        "    fn=inference,\n",
        "    inputs=inputs,\n",
        "    outputs=outputs,\n",
        "    title=\"Foody Dudy: Thai Food Prediction\"\n",
        ").launch(debug=\"True\")"
      ],
      "metadata": {
        "id": "Z8Ig4hC_fPKe"
      },
      "execution_count": null,
      "outputs": []
    }
  ]
}