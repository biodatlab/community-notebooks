{
 "cells": [
  {
   "cell_type": "markdown",
   "metadata": {},
   "source": [
    "# GPT Use Case 3: Generate HTML webpage from a summarization of the report"
   ]
  },
  {
   "cell_type": "markdown",
   "metadata": {},
   "source": [
    "Import libraries and access API"
   ]
  },
  {
   "cell_type": "code",
   "execution_count": null,
   "metadata": {},
   "outputs": [],
   "source": [
    "import openai\n",
    "import pandas as pd\n",
    "import os\n",
    "import docx\n",
    "import markdown\n",
    "\n",
    "GPT_MODEL = \"gpt-3.5-turbo-0613\" # select model based on application\n",
    "openai.api_key = API_key = 'sk-...'"
   ]
  },
  {
   "cell_type": "markdown",
   "metadata": {},
   "source": [
    "Create functions to read document and markdown conversion"
   ]
  },
  {
   "cell_type": "code",
   "execution_count": null,
   "metadata": {},
   "outputs": [],
   "source": [
    "def read_docx(file_path):\n",
    "    document = docx.Document(file_path)\n",
    "    text = []\n",
    "    for paragraph in document.paragraphs:\n",
    "        text.append(paragraph.text)\n",
    "    return 'n'.join(text)"
   ]
  },
  {
   "cell_type": "code",
   "execution_count": null,
   "metadata": {},
   "outputs": [],
   "source": [
    "def convert_to_markdown(text):\n",
    "    return markdown.markdown(text)"
   ]
  },
  {
   "cell_type": "markdown",
   "metadata": {},
   "source": [
    "Import documents"
   ]
  },
  {
   "cell_type": "code",
   "execution_count": null,
   "metadata": {},
   "outputs": [],
   "source": [
    "file_path = './GPT_web_page_generation_data/'\n",
    "meeting_summary_path = os.path.join(file_path, 'meeting_summary.docx')\n",
    "meeting_summary = read_docx(meeting_summary_path)\n",
    "print(meeting_summary)"
   ]
  },
  {
   "cell_type": "markdown",
   "metadata": {},
   "source": [
    "Create prompt"
   ]
  },
  {
   "cell_type": "code",
   "execution_count": null,
   "metadata": {},
   "outputs": [],
   "source": [
    "blog_creation_instruction = (\n",
    "    \"\"\"You have no previous memories.\\n\"\"\"\n",
    "    \"\"\"You are professional in designing HTML web page.\\n\"\"\"\n",
    "    \"\"\"Your task is to read over the provided document, and format contents in document into HTML that resembles web blog.\\n\"\"\"\n",
    "    f\"\"\"Document: {meeting_summary}\\n\"\"\"\n",
    "    \"\"\"Do not forget to desgin webL interface to be user-friendly, such as displaying data in table format\\n\"\"\"\n",
    ")"
   ]
  },
  {
   "cell_type": "markdown",
   "metadata": {},
   "source": [
    "Input prepared prompt to LLM and run GPT"
   ]
  },
  {
   "cell_type": "code",
   "execution_count": null,
   "metadata": {},
   "outputs": [],
   "source": [
    "response = openai.ChatCompletion.create(\n",
    "    model=GPT_MODEL,\n",
    "    messages=[\n",
    "        {'role': 'system', 'content': blog_creation_instruction}\n",
    "    ],\n",
    "    temperature=0\n",
    ")\n",
    "\n",
    "result = response['choices'][0]['message']['content']\n",
    "print(result)"
   ]
  },
  {
   "cell_type": "markdown",
   "metadata": {},
   "source": [
    "Export result into HTML web page"
   ]
  },
  {
   "cell_type": "code",
   "execution_count": null,
   "metadata": {},
   "outputs": [],
   "source": [
    "export_path = os.path.join('./GPT_web_page_generation_html', 'meeting_summary.html')\n",
    "\n",
    "# Clear existed html file\n",
    "if os.path.exists(export_path):\n",
    "    os.remove(export_path)\n",
    "\n",
    "meeting_summary_web = open(export_path, 'w')\n",
    "meeting_summary_web.write(result)\n",
    "meeting_summary_web.close()"
   ]
  }
 ],
 "metadata": {
  "kernelspec": {
   "display_name": "ASR",
   "language": "python",
   "name": "python3"
  },
  "language_info": {
   "codemirror_mode": {
    "name": "ipython",
    "version": 3
   },
   "file_extension": ".py",
   "mimetype": "text/x-python",
   "name": "python",
   "nbconvert_exporter": "python",
   "pygments_lexer": "ipython3",
   "version": "3.11.4"
  },
  "orig_nbformat": 4
 },
 "nbformat": 4,
 "nbformat_minor": 2
}
