{
 "cells": [
  {
   "cell_type": "markdown",
   "metadata": {},
   "source": [
    "# GPT Use Case 2: Analyze the product sales"
   ]
  },
  {
   "cell_type": "markdown",
   "metadata": {},
   "source": [
    "Import libraries and access API"
   ]
  },
  {
   "cell_type": "code",
   "execution_count": null,
   "metadata": {},
   "outputs": [],
   "source": [
    "import openai\n",
    "import os\n",
    "import pandas as pd\n",
    "import json\n",
    "\n",
    "GPT_MODEL = \"gpt-3.5-turbo-0613\" # select model based on application\n",
    "openai.api_key = API_key = 'sk-...'"
   ]
  },
  {
   "cell_type": "markdown",
   "metadata": {},
   "source": [
    "Import sales from csv file"
   ]
  },
  {
   "cell_type": "code",
   "execution_count": null,
   "metadata": {},
   "outputs": [],
   "source": [
    "# Import csv file\n",
    "data_path = './GPT_sales_analysis_data'\n",
    "sales_file = os.path.join(data_path, 'Sales_April_2019.csv')\n",
    "\n",
    "# Use pandas to create DataFrame from csv file\n",
    "df = pd.read_csv(sales_file)\n",
    "df.dropna(inplace=True)\n",
    "df = df.head(50) # batch the data to prevent rate limit errors\n",
    "dict_sale = df.to_dict(orient='dict')"
   ]
  },
  {
   "cell_type": "markdown",
   "metadata": {},
   "source": [
    "Create prompt template"
   ]
  },
  {
   "cell_type": "code",
   "execution_count": null,
   "metadata": {},
   "outputs": [],
   "source": [
    "instruction = (\\\n",
    "    \"\"\"You have no previous memories\\n\"\"\"\n",
    "    \"\"\"You are a professional business analyst.\\n\"\"\"\n",
    "    \"\"\"You task is to summarize each product sales.\\n\"\"\"\n",
    "    \"\"\"You should also provide statistical information of each product such as 'total_sales', 'total_quantity', 'average_price', 'most_common_address'\\n\"\"\"\n",
    "    f\"\"\"Sales: {dict_sale}\\n\"\"\"\n",
    "    \"\"\"Return the result into JSON schema\\n\"\"\"\n",
    "    )"
   ]
  },
  {
   "cell_type": "markdown",
   "metadata": {},
   "source": [
    "Input prepared prompt to LLM and run GPT"
   ]
  },
  {
   "cell_type": "code",
   "execution_count": null,
   "metadata": {},
   "outputs": [],
   "source": [
    "response = openai.ChatCompletion.create(\n",
    "    model=GPT_MODEL,\n",
    "    messages=[\n",
    "        {'role': 'user', \"content\": instruction}\n",
    "    ],\n",
    "    temperature=0\n",
    ")\n",
    "\n",
    "result = response['choices'][0]['message']['content']\n",
    "print(result)"
   ]
  },
  {
   "cell_type": "markdown",
   "metadata": {},
   "source": [
    "Load and post-process GPT response"
   ]
  },
  {
   "cell_type": "code",
   "execution_count": null,
   "metadata": {},
   "outputs": [],
   "source": [
    "json_result = json.loads(result)\n",
    "print(json_result)"
   ]
  },
  {
   "cell_type": "markdown",
   "metadata": {},
   "source": [
    "Export csv file"
   ]
  },
  {
   "cell_type": "code",
   "execution_count": null,
   "metadata": {},
   "outputs": [],
   "source": [
    "export_path = os.path.join('./GPT_sales_analysis_report', 'sales_summary.csv')\n",
    "# Clear existed csv file\n",
    "if os.path.exists(export_path):\n",
    "    os.remove(export_path)\n",
    "\n",
    "final_df = pd.DataFrame.from_dict(json_result['products']) # Convert dict to DataFrame\n",
    "final_df.to_csv(export_path, encoding='utf-8-sig', index=False)\n",
    "print(final_df)"
   ]
  }
 ],
 "metadata": {
  "kernelspec": {
   "display_name": "ASR",
   "language": "python",
   "name": "python3"
  },
  "language_info": {
   "codemirror_mode": {
    "name": "ipython",
    "version": 3
   },
   "file_extension": ".py",
   "mimetype": "text/x-python",
   "name": "python",
   "nbconvert_exporter": "python",
   "pygments_lexer": "ipython3",
   "version": "3.11.4"
  },
  "orig_nbformat": 4
 },
 "nbformat": 4,
 "nbformat_minor": 2
}
